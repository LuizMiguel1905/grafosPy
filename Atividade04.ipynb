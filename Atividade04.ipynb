{
 "cells": [
  {
   "cell_type": "code",
   "execution_count": 37,
   "metadata": {},
   "outputs": [],
   "source": [
    "import matplotlib.pyplot as plt\n",
    "import networkx as nx\n",
    "import pydot\n",
    "from networkx.drawing.nx_pydot import graphviz_layout"
   ]
  },
  {
   "cell_type": "code",
   "execution_count": 2,
   "metadata": {},
   "outputs": [],
   "source": [
    "from models.grafo import Graph\n",
    "from utils.PathUtil import PathUtil\n",
    "\n",
    "import os\n",
    "os.environ[\"PATH\"] += os.pathsep + 'C:/Program Files (x86)/Graphviz2.38/bin/'\n"
   ]
  },
  {
   "cell_type": "code",
   "execution_count": 133,
   "metadata": {},
   "outputs": [
    {
     "name": "stdout",
     "output_type": "stream",
     "text": [
      "Graph({'1': ['2', '5'], '2': ['1', '5'], '3': ['5'], '4': ['5'], '5': ['2', '3', '4', '1']})\n"
     ]
    }
   ],
   "source": [
    "grafoNovo = Graph()\n",
    "grafoNovo.addVertices([\"1\", \"2\", \"3\", \"4\", \"5\"])\n",
    "grafoNovo.addEdge(\"1\", \"2\")\n",
    "grafoNovo.addEdge(\"2\", \"5\")\n",
    "grafoNovo.addEdge(\"5\", \"3\")\n",
    "grafoNovo.addEdge(\"4\", \"5\")\n",
    "grafoNovo.addEdge(\"1\", \"5\")\n",
    "\n",
    "\n",
    "print(grafoNovo)"
   ]
  },
  {
   "cell_type": "code",
   "execution_count": 142,
   "metadata": {},
   "outputs": [
    {
     "name": "stdout",
     "output_type": "stream",
     "text": [
      "None\n"
     ]
    }
   ],
   "source": [
    "grafoNovo2 = PathUtil()\n",
    "\n",
    "grafoNovo2.BFS(grafoNovo, \"1\")\n"
   ]
  },
  {
   "cell_type": "code",
   "execution_count": 112,
   "metadata": {},
   "outputs": [
    {
     "name": "stdout",
     "output_type": "stream",
     "text": [
      "[1, 2, 3, 4, 5]\n"
     ]
    },
    {
     "data": {
      "image/png": "[encoded data removed]",
      "text/plain": [
       "<Figure size 432x288 with 1 Axes>"
      ]
     },
     "metadata": {},
     "output_type": "display_data"
    }
   ],
   "source": [
    "graph = pydot.Dot('my_graph', graph_type='graph', bgcolor='white')\n",
    "G = nx.Graph()\n",
    "newGrafo = []\n",
    "i = 1\n",
    "while(grafoNovo[i] != []):\n",
    "    newGrafo.append(grafoNovo[i])\n",
    "    G.add_node(i)\n",
    "    i += 1\n",
    "   \n",
    "    #graph.add_node(pydot.Node(i, shape='circle'))\n",
    "    \n",
    "\n",
    "print(G.nodes())\n",
    "\n",
    "contador = 0\n",
    "for x in newGrafo:\n",
    "    contador += 1\n",
    "    \n",
    "    for y in x:\n",
    "        G.add_edge(contador, y)\n",
    "       # graph.add_edge(pydot.Edge(contador, y, color='blue'))\n",
    "\n",
    "nx.draw(G, with_labels=True)\n",
    "\n",
    "#output_graphviz_svg = graph.create_svg()\n",
    "#graph.write_png('output.png')"
   ]
  }
 ],
 "metadata": {
  "interpreter": {
   "hash": "8d07b538f02c9bc50ecab863610162635752446da4c1a789b782240bc842d955"
  },
  "kernelspec": {
   "display_name": "Python 3.10.3 64-bit",
   "language": "python",
   "name": "python3"
  },
  "language_info": {
   "codemirror_mode": {
    "name": "ipython",
    "version": 3
   },
   "file_extension": ".py",
   "mimetype": "text/x-python",
   "name": "python",
   "nbconvert_exporter": "python",
   "pygments_lexer": "ipython3",
   "version": "3.10.3"
  },
  "orig_nbformat": 4
 },
 "nbformat": 4,
 "nbformat_minor": 2
}
